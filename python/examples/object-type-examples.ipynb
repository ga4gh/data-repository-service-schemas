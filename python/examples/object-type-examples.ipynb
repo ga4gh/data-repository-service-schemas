{
 "cells": [
  {
   "cell_type": "markdown",
   "metadata": {},
   "source": [
    "# Data Object Service Demo\n",
    "\n",
    "This notebook demonstrates how to use the demonstration server and client to make a simple Data Object service that makes available data from a few different sources.\n",
    "\n",
    "## Installing the Python package\n",
    "\n",
    "First, we'll install the Data Object Service Schemas package from PyPi, it includes a Python client and demonstration server.\n",
    "\n"
   ]
  },
  {
   "cell_type": "code",
   "execution_count": null,
   "metadata": {},
   "outputs": [],
   "source": [
    "!pip install ga4gh-dos-schemas"
   ]
  },
  {
   "cell_type": "markdown",
   "metadata": {},
   "source": [
    "## Running the server\n",
    "\n",
    "Once you've installed the PyPi package, you can run the demonstration server using `ga4gh_dos_server`. Open this in a separate terminal.\n",
    "\n",
    "You should see something like:\n",
    "\n",
    "```\n",
    "$  ga4gh_dos_server\n",
    " * Serving Flask app \"ga4gh.dos.server\" (lazy loading)\n",
    " * Environment: production\n",
    "   WARNING: Do not use the development server in a production environment.\n",
    "   Use a production WSGI server instead.\n",
    " * Debug mode: on\n",
    " * Running on http://0.0.0.0:8080/ (Press CTRL+C to quit)\n",
    " * Restarting with stat\n",
    " * Debugger is active!\n",
    " * Debugger PIN: 192-487-366\n",
    "```\n",
    "\n",
    "Your DOS is now ready to accept requests to Create, Get, and List Data Objects!"
   ]
  },
  {
   "cell_type": "markdown",
   "metadata": {},
   "source": [
    "## Using the Client to Access the Demo Server"
   ]
  },
  {
   "cell_type": "markdown",
   "metadata": {},
   "source": [
    "We can now use the Python client to create a simple Data Object. The same could be done using cURL or wget."
   ]
  },
  {
   "cell_type": "code",
   "execution_count": 2,
   "metadata": {},
   "outputs": [],
   "source": [
    "from ga4gh.dos.client import Client\n",
    "client = Client(\"http://localhost:8080/ga4gh/dos/v1\")\n",
    "c = client.client\n",
    "models = client.models"
   ]
  },
  {
   "cell_type": "markdown",
   "metadata": {},
   "source": [
    "At first, the service will not present any Data Objects."
   ]
  },
  {
   "cell_type": "code",
   "execution_count": 4,
   "metadata": {},
   "outputs": [
    {
     "data": {
      "text/plain": [
       "ListDataObjectsResponse(data_objects=[], next_page_token=None)"
      ]
     },
     "execution_count": 4,
     "metadata": {},
     "output_type": "execute_result"
    }
   ],
   "source": [
    "c.ListDataObjects().result()"
   ]
  },
  {
   "cell_type": "markdown",
   "metadata": {},
   "source": [
    "We can now create an simple data object representing a file."
   ]
  },
  {
   "cell_type": "code",
   "execution_count": 6,
   "metadata": {},
   "outputs": [
    {
     "name": "stdout",
     "output_type": "stream",
     "text": [
      "976feb684cfdb4b2337530699e1d0fbd  dos.txt\r\n"
     ]
    }
   ],
   "source": [
    "!echo \"Hello DOS\" > dos.txt\n",
    "!md5sum dos.txt"
   ]
  },
  {
   "cell_type": "code",
   "execution_count": 7,
   "metadata": {},
   "outputs": [],
   "source": [
    "DataObject = models.get_model('DataObject')\n",
    "Checksum = models.get_model('Checksum')\n",
    "URL = models.get_model('URL')\n",
    "hello_object = DataObject()"
   ]
  },
  {
   "cell_type": "code",
   "execution_count": 8,
   "metadata": {},
   "outputs": [],
   "source": [
    "# Set the Data Object metadata\n",
    "hello_object.id = 'test'\n",
    "hello_object.checksums = [Checksum(checksum=\"976feb684cfdb4b2337530699e1d0fbd\", type=\"md5\")]\n",
    "hello_object.urls = [URL(url=\"file://dos.txt\")]\n",
    "hello_object.name = 'dos.txt'"
   ]
  },
  {
   "cell_type": "code",
   "execution_count": 10,
   "metadata": {},
   "outputs": [
    {
     "data": {
      "text/plain": [
       "CreateDataObjectResponse(data_object_id=u'test')"
      ]
     },
     "execution_count": 10,
     "metadata": {},
     "output_type": "execute_result"
    }
   ],
   "source": [
    "# Post the Data Object to the service\n",
    "c.CreateDataObject(body={'data_object': hello_object}).result()"
   ]
  },
  {
   "cell_type": "code",
   "execution_count": 12,
   "metadata": {},
   "outputs": [
    {
     "data": {
      "text/plain": [
       "GetDataObjectResponse(data_object=DataObject(aliases=None, checksums=[Checksum(checksum=u'976feb684cfdb4b2337530699e1d0fbd', type=u'md5')], created=datetime.datetime(2018, 5, 31, 9, 47, 9, 729521, tzinfo=tzutc()), description=None, id=u'test', mime_type=None, name=u'dos.txt', size=None, updated=datetime.datetime(2018, 5, 31, 9, 47, 9, 729536, tzinfo=tzutc()), urls=[URL(system_metadata=None, url=u'file://dos.txt', user_metadata=None)], version=u'2018-05-31T09:47:09.729541Z'))"
      ]
     },
     "execution_count": 12,
     "metadata": {},
     "output_type": "execute_result"
    }
   ],
   "source": [
    "# Get the resulting created object\n",
    "c.GetDataObject(data_object_id='test').result()"
   ]
  },
  {
   "cell_type": "markdown",
   "metadata": {},
   "source": [
    "## Using DOS With Reference FASTAs\n",
    "\n",
    "A useful Data Object Service might present a list of available reference FASTAs for performing downstream alignment and analysis.\n",
    "\n",
    "We'll index the UCSC human reference FASTAs into DOS as an example."
   ]
  },
  {
   "cell_type": "code",
   "execution_count": 15,
   "metadata": {},
   "outputs": [
    {
     "name": "stdout",
     "output_type": "stream",
     "text": [
      "--2018-05-31 09:50:36--  http://hgdownload.cse.ucsc.edu/goldenPath/hg38/chromosomes/chr22.fa.gz\n",
      "Resolving hgdownload.cse.ucsc.edu (hgdownload.cse.ucsc.edu)... 128.114.119.163\n",
      "Connecting to hgdownload.cse.ucsc.edu (hgdownload.cse.ucsc.edu)|128.114.119.163|:80... connected.\n",
      "HTTP request sent, awaiting response... 200 OK\n",
      "Length: 12255678 (12M) [application/x-gzip]\n",
      "Saving to: ‘chr22.fa.gz’\n",
      "\n",
      "chr22.fa.gz         100%[===================>]  11.69M  2.08MB/s    in 5.8s    \n",
      "\n",
      "2018-05-31 09:50:42 (2.03 MB/s) - ‘chr22.fa.gz’ saved [12255678/12255678]\n",
      "\n",
      "41b47ce1cc21b558409c19b892e1c0d1  chr22.fa.gz\n"
     ]
    }
   ],
   "source": [
    "!wget http://hgdownload.cse.ucsc.edu/goldenPath/hg38/chromosomes/chr22.fa.gz\n",
    "!md5sum chr22.fa.gz"
   ]
  },
  {
   "cell_type": "code",
   "execution_count": 16,
   "metadata": {},
   "outputs": [],
   "source": [
    "# Adding a second URL because FTP is preferred\n",
    "chr22 = DataObject()\n",
    "chr22.id = 'hg38-chr22'\n",
    "chr22.name = 'chr22.fa.gz'\n",
    "chr22.urls = [\n",
    "    URL(url='http://hgdownload.cse.ucsc.edu/goldenPath/hg38/chromosomes/chr22.fa.gz'),\n",
    "    URL(url='ftp://hgdownload.cse.ucsc.edu/goldenPath/hg38/chromosomes/chr22.fa.gz')]\n",
    "chr22.checksums = [Checksum(checksum='41b47ce1cc21b558409c19b892e1c0d1', type='md5')]\n",
    "chr22.aliases = ['NC_000022', 'CM000684']\n",
    "chr22.size = '12255678'"
   ]
  },
  {
   "cell_type": "code",
   "execution_count": 17,
   "metadata": {},
   "outputs": [
    {
     "data": {
      "text/plain": [
       "CreateDataObjectResponse(data_object_id=u'hg38-chr22')"
      ]
     },
     "execution_count": 17,
     "metadata": {},
     "output_type": "execute_result"
    }
   ],
   "source": [
    "# Add the chr22 Data Object to the service\n",
    "c.CreateDataObject(body={'data_object': chr22}).result()"
   ]
  },
  {
   "cell_type": "code",
   "execution_count": 18,
   "metadata": {},
   "outputs": [
    {
     "data": {
      "text/plain": [
       "GetDataObjectResponse(data_object=DataObject(aliases=[u'NC_000022', u'CM000684'], checksums=[Checksum(checksum=u'41b47ce1cc21b558409c19b892e1c0d1', type=u'md5')], created=datetime.datetime(2018, 5, 31, 9, 54, 56, 385181, tzinfo=tzutc()), description=None, id=u'hg38-chr22', mime_type=None, name=u'chr22.fa.gz', size=12255678L, updated=datetime.datetime(2018, 5, 31, 9, 54, 56, 385193, tzinfo=tzutc()), urls=[URL(system_metadata=None, url=u'http://hgdownload.cse.ucsc.edu/goldenPath/hg38/chromosomes/chr22.fa.gz', user_metadata=None), URL(system_metadata=None, url=u'ftp://hgdownload.cse.ucsc.edu/goldenPath/hg38/chromosomes/chr22.fa.gz', user_metadata=None)], version=u'2018-05-31T09:54:56.385197Z'))"
      ]
     },
     "execution_count": 18,
     "metadata": {},
     "output_type": "execute_result"
    }
   ],
   "source": [
    "c.GetDataObject(data_object_id='hg38-chr22').result()"
   ]
  },
  {
   "cell_type": "markdown",
   "metadata": {},
   "source": [
    "## Using DOS with htsget\n",
    "\n",
    "Data Objects are meant to represent versioned artifacts and can represent an API resource. For example, we could use DOS as a way of exposing htsget resources.\n",
    "\n",
    "In the [htsget Quickstart documentation](https://htsget.readthedocs.io/en/stable/quickstart.html) a link is made to the following snippet, which will stream the BAM results to the client."
   ]
  },
  {
   "cell_type": "code",
   "execution_count": 19,
   "metadata": {},
   "outputs": [],
   "source": [
    "!htsget http://htsnexus.rnd.dnanex.us/v1/reads/BroadHiSeqX_b37/NA12878 \\\n",
    "    --reference-name=2 --start=1000 --end=20000 -O NA12878_2.bam"
   ]
  },
  {
   "cell_type": "code",
   "execution_count": 23,
   "metadata": {},
   "outputs": [
    {
     "name": "stdout",
     "output_type": "stream",
     "text": [
      "eaf80af5e9e54db5936578bed06ffcdc  NA12878_2.bam\n",
      "-rw-r--r-- 1 david david 555749 May 31 10:00 NA12878_2.bam\n"
     ]
    }
   ],
   "source": [
    "!md5sum NA12878_2.bam\n",
    "!ls -al NA12878_2.bam"
   ]
  },
  {
   "cell_type": "code",
   "execution_count": 26,
   "metadata": {},
   "outputs": [],
   "source": [
    "na12878_2 = DataObject()\n",
    "na12878_2.id = 'na12878_2'\n",
    "na12878_2.name = 'NA12878_2.bam'\n",
    "na12878_2.checksums = [Checksum(checksum='eaf80af5e9e54db5936578bed06ffcdc', type='md5')]\n",
    "na12878_2.urls = [\n",
    "    URL(\n",
    "        url=\"http://htsnexus.rnd.dnanex.us/v1/reads/BroadHiSeqX_b37/NA12878\", \n",
    "        system_metadata={'reference_name': 2, 'start': 1000, 'end': 20000})]\n",
    "na12878_2.aliases = ['NA12878 chr 2 subset']\n",
    "na12878_2.size = '555749'"
   ]
  },
  {
   "cell_type": "code",
   "execution_count": 27,
   "metadata": {},
   "outputs": [
    {
     "data": {
      "text/plain": [
       "CreateDataObjectResponse(data_object_id=u'na12878_2')"
      ]
     },
     "execution_count": 27,
     "metadata": {},
     "output_type": "execute_result"
    }
   ],
   "source": [
    "c.CreateDataObject(body={'data_object': na12878_2}).result()"
   ]
  },
  {
   "cell_type": "code",
   "execution_count": 29,
   "metadata": {},
   "outputs": [
    {
     "data": {
      "text/plain": [
       "GetDataObjectResponse(data_object=DataObject(aliases=[u'NA12878 chr 2 subset'], checksums=[Checksum(checksum=u'eaf80af5e9e54db5936578bed06ffcdc', type=u'md5')], created=datetime.datetime(2018, 5, 31, 10, 5, 7, 748572, tzinfo=tzutc()), description=None, id=u'na12878_2', mime_type=None, name=u'NA12878_2.bam', size=555749L, updated=datetime.datetime(2018, 5, 31, 10, 5, 7, 748583, tzinfo=tzutc()), urls=[URL(system_metadata=SystemMetadata(end=20000, reference_name=2, start=1000), url=u'http://htsnexus.rnd.dnanex.us/v1/reads/BroadHiSeqX_b37/NA12878', user_metadata=None)], version=u'2018-05-31T10:05:07.748588Z'))"
      ]
     },
     "execution_count": 29,
     "metadata": {},
     "output_type": "execute_result"
    }
   ],
   "source": [
    "c.GetDataObject(data_object_id='na12878_2').result()"
   ]
  },
  {
   "cell_type": "markdown",
   "metadata": {},
   "source": [
    "## Using DOS with S3\n",
    "\n",
    "One of the original intentions of DOS is to create an interoperability layer over the various object stores. We can create Data Objects that point to items in S3 so that subsequent downloaders can find them.\n",
    "\n",
    "Using [dos_connect](https://github.com/ohsu-comp-bio/dos_connect), a DOS hosting the 1kgenomes s3 data is available."
   ]
  },
  {
   "cell_type": "code",
   "execution_count": 31,
   "metadata": {},
   "outputs": [],
   "source": [
    "client_1kg = Client('http://ec2-52-26-45-130.us-west-2.compute.amazonaws.com:8080/ga4gh/dos/v1/')\n",
    "c1kg = client_1kg.client"
   ]
  },
  {
   "cell_type": "code",
   "execution_count": 34,
   "metadata": {},
   "outputs": [],
   "source": [
    "do_1kg = c1kg.ListDataObjects().result().data_objects[0]"
   ]
  },
  {
   "cell_type": "code",
   "execution_count": 38,
   "metadata": {},
   "outputs": [
    {
     "name": "stdout",
     "output_type": "stream",
     "text": [
      "s3://1000genomes/phase3/data/HG02885/alignment/HG02885.mapped.ILLUMINA.bwa.GWD.low_coverage.20121211.bam.cram.crai\n",
      "Checksum(checksum=u'ddc4d0aea91b82a1c202a0cd1219e520', type=u'md5')\n",
      "b3549308-9dd0-4fdb-92b2-5a2697521354\n"
     ]
    }
   ],
   "source": [
    "print(do_1kg.urls[0].url)\n",
    "print(do_1kg.checksums[0])\n",
    "print(do_1kg.id)"
   ]
  },
  {
   "cell_type": "markdown",
   "metadata": {},
   "source": [
    "We can now use an S3 downloader to retrieve the file and confirm the checksum."
   ]
  },
  {
   "cell_type": "code",
   "execution_count": 40,
   "metadata": {},
   "outputs": [
    {
     "name": "stdout",
     "output_type": "stream",
     "text": [
      "usage: dos-downloader [-h] [--aws_access_key AWS_ACCESS_KEY]\r\n",
      "                      [--aws_secret_key AWS_SECRET_KEY] [--path PATH]\r\n",
      "                      url id\r\n",
      "dos-downloader: error: argument --aws_secret_key: expected one argument\r\n"
     ]
    }
   ],
   "source": [
    "!dos-downloader http://ec2-52-26-45-130.us-west-2.compute.amazonaws.com:8080/ga4gh/dos/v1/ b3549308-9dd0-4fdb-92b2-5a2697521354 --aws_secret_key $aws_secret_access_key --aws_access_key $aws_access_key_id"
   ]
  },
  {
   "cell_type": "markdown",
   "metadata": {},
   "source": [
    "## DOS GDC Data\n",
    "\n",
    "Another demonstration in this repository asks you to create a DOS of the NCI GDC data. This process has been automated as part of a lambda: dos-gdc-lambda."
   ]
  },
  {
   "cell_type": "code",
   "execution_count": 43,
   "metadata": {},
   "outputs": [],
   "source": [
    "cgdc = Client(\"https://dos-gdc.ucsc-cgp-dev.org/\")"
   ]
  },
  {
   "cell_type": "code",
   "execution_count": 48,
   "metadata": {},
   "outputs": [],
   "source": [
    "gdc_do = cgdc.client.ListDataObjects().result().data_objects[0]"
   ]
  },
  {
   "cell_type": "code",
   "execution_count": 52,
   "metadata": {},
   "outputs": [
    {
     "name": "stdout",
     "output_type": "stream",
     "text": [
      "4803fc06-e2de-44aa-b76e-f8fe9308c18d.bam\n",
      "19098711404\n",
      "https://api.gdc.cancer.gov/data/4803fc06-e2de-44aa-b76e-f8fe9308c18d\n"
     ]
    }
   ],
   "source": [
    "print(gdc_do.name)\n",
    "print(gdc_do.size)\n",
    "print(gdc_do.urls[0].url)"
   ]
  },
  {
   "cell_type": "markdown",
   "metadata": {},
   "source": [
    "## DAS DOS\n",
    "\n",
    "UCSC Genome Browser makes available a service for getting sequence by region from named FASTA. Working with DOS is pretty easy.\n",
    "\n",
    "Both of these APIs allow one to make further range queries against the result.\n",
    "\n",
    "https://genome.ucsc.edu/FAQ/FAQdownloads.html#download23"
   ]
  },
  {
   "cell_type": "code",
   "execution_count": 54,
   "metadata": {},
   "outputs": [],
   "source": [
    "chr22.urls.append(URL(url='http://genome.ucsc.edu/cgi-bin/das/hg19/dna?segment=chr22:15000,16000'))\n",
    "chr22.urls.append(URL(url='http://togows.org/api/ucsc/hg38/chr22:15000-16000.fasta'))"
   ]
  },
  {
   "cell_type": "code",
   "execution_count": 57,
   "metadata": {},
   "outputs": [
    {
     "data": {
      "text/plain": [
       "UpdateDataObjectResponse(data_object_id=u'hg38-chr22')"
      ]
     },
     "execution_count": 57,
     "metadata": {},
     "output_type": "execute_result"
    }
   ],
   "source": [
    "c.UpdateDataObject(body={'data_object': chr22}, data_object_id=chr22.id).result()"
   ]
  },
  {
   "cell_type": "code",
   "execution_count": 84,
   "metadata": {},
   "outputs": [
    {
     "name": "stdout",
     "output_type": "stream",
     "text": [
      "(u'2018-05-31T11:33:04.156318Z', None)\n"
     ]
    }
   ],
   "source": [
    "response_chr22 = c.GetDataObject(data_object_id=chr22.id).result().data_object\n",
    "# Note the change in version, in DOS versions are just arbitrary strings\n",
    "print(response_chr22.version, chr22.version)\n",
    "url_1 = response_chr22.urls[2].url\n",
    "url_2 = response_chr22.urls[3].url"
   ]
  },
  {
   "cell_type": "code",
   "execution_count": 89,
   "metadata": {},
   "outputs": [
    {
     "name": "stdout",
     "output_type": "stream",
     "text": [
      "--2018-05-31 11:40:17--  http://genome.ucsc.edu/cgi-bin/das/hg19/dna?segment=chr22:15000,16000\n",
      "Resolving genome.ucsc.edu (genome.ucsc.edu)... 128.114.119.131, 128.114.119.132, 128.114.119.133, ...\n",
      "Connecting to genome.ucsc.edu (genome.ucsc.edu)|128.114.119.131|:80... connected.\n",
      "HTTP request sent, awaiting response... 200 OK\n",
      "Length: unspecified [text/xml]\n",
      "Saving to: ‘dna?segment=chr22:15000,16000.2’\n",
      "\n",
      "dna?segment=chr22:1     [ <=>                ]   1.22K  --.-KB/s    in 0s      \n",
      "\n",
      "2018-05-31 11:40:17 (62.9 MB/s) - ‘dna?segment=chr22:15000,16000.2’ saved [1246]\n",
      "\n"
     ]
    }
   ],
   "source": [
    "!wget $url_1"
   ]
  },
  {
   "cell_type": "code",
   "execution_count": 90,
   "metadata": {},
   "outputs": [
    {
     "name": "stdout",
     "output_type": "stream",
     "text": [
      "<?xml version=\"1.0\" standalone=\"no\"?>\r\n",
      "<!DOCTYPE DASDNA SYSTEM \"http://www.biodas.org/dtd/dasdna.dtd\">\r\n",
      "<DASDNA>\r\n",
      "<SEQUENCE id=\"chr22\" start=\"15000\" stop=\"16000\" version=\"1.00\">\r\n",
      "<DNA length=\"1001\">\r\n",
      "nnnnnnnnnnnnnnnnnnnnnnnnnnnnnnnnnnnnnnnnnnnnnnnnnn\r\n",
      "nnnnnnnnnnnnnnnnnnnnnnnnnnnnnnnnnnnnnnnnnnnnnnnnnn\r\n",
      "nnnnnnnnnnnnnnnnnnnnnnnnnnnnnnnnnnnnnnnnnnnnnnnnnn\r\n",
      "nnnnnnnnnnnnnnnnnnnnnnnnnnnnnnnnnnnnnnnnnnnnnnnnnn\r\n",
      "nnnnnnnnnnnnnnnnnnnnnnnnnnnnnnnnnnnnnnnnnnnnnnnnnn\r\n"
     ]
    }
   ],
   "source": [
    "!head dna?segment=chr22:15000,16000"
   ]
  },
  {
   "cell_type": "code",
   "execution_count": 91,
   "metadata": {},
   "outputs": [
    {
     "name": "stdout",
     "output_type": "stream",
     "text": [
      "--2018-05-31 11:40:20--  http://togows.org/api/ucsc/hg38/chr22:15000-16000.fasta\n",
      "Resolving togows.org (togows.org)... 133.39.78.80\n",
      "Connecting to togows.org (togows.org)|133.39.78.80|:80... connected.\n",
      "HTTP request sent, awaiting response... 200 OK\n",
      "Length: unspecified [text/plain]\n",
      "Saving to: ‘chr22:15000-16000.fasta.1’\n",
      "\n",
      "chr22:15000-16000.f     [ <=>                ]   1.02K  --.-KB/s    in 0s      \n",
      "\n",
      "2018-05-31 11:40:21 (49.6 MB/s) - ‘chr22:15000-16000.fasta.1’ saved [1042]\n",
      "\n"
     ]
    }
   ],
   "source": [
    "!wget $url_2"
   ]
  },
  {
   "cell_type": "code",
   "execution_count": 92,
   "metadata": {},
   "outputs": [
    {
     "name": "stdout",
     "output_type": "stream",
     "text": [
      ">hg38:chr22:15000-16000\r\n",
      "NNNNNNNNNNNNNNNNNNNNNNNNNNNNNNNNNNNNNNNNNNNNNNNNNNNNNNNNNNNN\r\n",
      "NNNNNNNNNNNNNNNNNNNNNNNNNNNNNNNNNNNNNNNNNNNNNNNNNNNNNNNNNNNN\r\n",
      "NNNNNNNNNNNNNNNNNNNNNNNNNNNNNNNNNNNNNNNNNNNNNNNNNNNNNNNNNNNN\r\n",
      "NNNNNNNNNNNNNNNNNNNNNNNNNNNNNNNNNNNNNNNNNNNNNNNNNNNNNNNNNNNN\r\n",
      "NNNNNNNNNNNNNNNNNNNNNNNNNNNNNNNNNNNNNNNNNNNNNNNNNNNNNNNNNNNN\r\n",
      "NNNNNNNNNNNNNNNNNNNNNNNNNNNNNNNNNNNNNNNNNNNNNNNNNNNNNNNNNNNN\r\n",
      "NNNNNNNNNNNNNNNNNNNNNNNNNNNNNNNNNNNNNNNNNNNNNNNNNNNNNNNNNNNN\r\n",
      "NNNNNNNNNNNNNNNNNNNNNNNNNNNNNNNNNNNNNNNNNNNNNNNNNNNNNNNNNNNN\r\n",
      "NNNNNNNNNNNNNNNNNNNNNNNNNNNNNNNNNNNNNNNNNNNNNNNNNNNNNNNNNNNN\r\n"
     ]
    }
   ],
   "source": [
    "!head chr22:15000-16000.fasta"
   ]
  },
  {
   "cell_type": "code",
   "execution_count": null,
   "metadata": {},
   "outputs": [],
   "source": []
  }
 ],
 "metadata": {
  "kernelspec": {
   "display_name": "Python 2",
   "language": "python",
   "name": "python2"
  },
  "language_info": {
   "codemirror_mode": {
    "name": "ipython",
    "version": 2
   },
   "file_extension": ".py",
   "mimetype": "text/x-python",
   "name": "python",
   "nbconvert_exporter": "python",
   "pygments_lexer": "ipython2",
   "version": "2.7.14"
  }
 },
 "nbformat": 4,
 "nbformat_minor": 2
}
