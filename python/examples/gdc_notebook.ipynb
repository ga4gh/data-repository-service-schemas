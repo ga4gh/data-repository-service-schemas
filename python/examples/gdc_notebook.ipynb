{
 "cells": [
  {
   "cell_type": "markdown",
   "metadata": {},
   "source": [
    "# GA4GH Data Access Example"
   ]
  },
  {
   "cell_type": "markdown",
   "metadata": {},
   "source": [
    "For this example, metadata have been loaded into a test data registry so they can be accessed using GA4GH methods. `python gdc_dos.py`"
   ]
  },
  {
   "cell_type": "markdown",
   "metadata": {},
   "source": [
    "## Import the client and models"
   ]
  },
  {
   "cell_type": "markdown",
   "metadata": {},
   "source": [
    "This will import a Python client and models for accessing data as defined in the schemas."
   ]
  },
  {
   "cell_type": "code",
   "execution_count": 3,
   "metadata": {},
   "outputs": [],
   "source": [
    "from ga4gh.dos.client import Client\n",
    "local_client = Client('http://localhost:8080/ga4gh/dos/v1')\n",
    "client = local_client.client\n",
    "models = local_client.models"
   ]
  },
  {
   "cell_type": "markdown",
   "metadata": {},
   "source": [
    "## Listing Data Objects"
   ]
  },
  {
   "cell_type": "markdown",
   "metadata": {},
   "source": [
    "To list the existing Data Objects, we send a ListDataObjectsRequest to the `ListDataObjects` method!"
   ]
  },
  {
   "cell_type": "code",
   "execution_count": 4,
   "metadata": {},
   "outputs": [
    {
     "name": "stdout",
     "output_type": "stream",
     "text": [
      "Number of Data Objects: 2882 \n"
     ]
    }
   ],
   "source": [
    "ListDataObjectsRequest = models.get_model('ListDataObjectsRequest')\n",
    "list_request = client.ListDataObjects(page_size=10000000)\n",
    "list_response = list_request.result()\n",
    "print(\"Number of Data Objects: {} \".format(len(list_response.data_objects)))"
   ]
  },
  {
   "cell_type": "markdown",
   "metadata": {},
   "source": [
    "These Data Object messages are for testing purposes only but should contain enough to retrieve their contents from GDC servers."
   ]
  },
  {
   "cell_type": "code",
   "execution_count": 5,
   "metadata": {},
   "outputs": [
    {
     "name": "stdout",
     "output_type": "stream",
     "text": [
      "url: https://api.gdc.cancer.gov/data/72fa5f40-1ade-4088-8390-b8bc970d12f1, file_size (B): 516230\n"
     ]
    }
   ],
   "source": [
    "data_objects = list_response.data_objects\n",
    "data_object = data_objects[11]\n",
    "print('url: {}, file_size (B): {}'.format(data_object.urls[0].url, data_object.size))"
   ]
  },
  {
   "cell_type": "markdown",
   "metadata": {},
   "source": [
    "## Filter Public Data"
   ]
  },
  {
   "cell_type": "markdown",
   "metadata": {},
   "source": [
    "We want to use this service to eventually download data, but first we must find data we have access to."
   ]
  },
  {
   "cell_type": "code",
   "execution_count": 6,
   "metadata": {},
   "outputs": [
    {
     "name": "stdout",
     "output_type": "stream",
     "text": [
      "Number of public Data Objects: 1341\n"
     ]
    }
   ],
   "source": [
    "public_data_objects = filter(\n",
    "    lambda x: x['urls'][0]['system_metadata']['access'] == 'open', \n",
    "    data_objects)\n",
    "print('Number of public Data Objects: {}'.format(len(public_data_objects)))\n",
    "\n",
    "public_data_object = public_data_objects[0]"
   ]
  },
  {
   "cell_type": "markdown",
   "metadata": {},
   "source": [
    "## Download a file"
   ]
  },
  {
   "cell_type": "markdown",
   "metadata": {},
   "source": [
    "We can then download this file and name it."
   ]
  },
  {
   "cell_type": "code",
   "execution_count": 7,
   "metadata": {},
   "outputs": [],
   "source": [
    "import requests\n",
    "\n",
    "# https://stackoverflow.com/questions/16694907/how-to-download-large-file-in-python-with-requests-py\n",
    "def download_file(url, filename):\n",
    "    # NOTE the stream=True parameter\n",
    "    r = requests.get(url, stream=True)\n",
    "    with open(filename, 'wb') as f:\n",
    "        for chunk in r.iter_content(chunk_size=1024): \n",
    "            if chunk: # filter out keep-alive new chunks\n",
    "                f.write(chunk)\n",
    "                #f.flush() commented by recommendation from J.F.Sebastian\n",
    "    return filename"
   ]
  },
  {
   "cell_type": "code",
   "execution_count": 8,
   "metadata": {},
   "outputs": [
    {
     "data": {
      "text/plain": [
       "u'944ee313-bcf5-480c-9ce8-05821746fb34.FPKM-UQ.txt.gz'"
      ]
     },
     "execution_count": 8,
     "metadata": {},
     "output_type": "execute_result"
    }
   ],
   "source": [
    "download_file(public_data_object.urls[0].url, data_object.name)"
   ]
  },
  {
   "cell_type": "markdown",
   "metadata": {},
   "source": [
    "## Verify the checksum"
   ]
  },
  {
   "cell_type": "markdown",
   "metadata": {},
   "source": [
    "Data Object messages contain checksums of the underlying files. We can validate it here."
   ]
  },
  {
   "cell_type": "code",
   "execution_count": 9,
   "metadata": {},
   "outputs": [
    {
     "name": "stdout",
     "output_type": "stream",
     "text": [
      "[Checksum(checksum=u'40d83610bbae6dcf8973590c226d4d04', type=u'md5')]\n"
     ]
    }
   ],
   "source": [
    "print(public_data_object.checksums)"
   ]
  },
  {
   "cell_type": "code",
   "execution_count": 10,
   "metadata": {},
   "outputs": [
    {
     "name": "stdout",
     "output_type": "stream",
     "text": [
      "40d83610bbae6dcf8973590c226d4d04\n",
      "40d83610bbae6dcf8973590c226d4d04\n",
      "True\n"
     ]
    }
   ],
   "source": [
    "given_checksum = public_data_object.checksums[0].checksum\n",
    "\n",
    "# https://stackoverflow.com/questions/3431825/generating-an-md5-checksum-of-a-file\n",
    "import hashlib\n",
    "def md5(fname):\n",
    "    hash_md5 = hashlib.md5()\n",
    "    with open(fname, \"rb\") as f:\n",
    "        for chunk in iter(lambda: f.read(4096), b\"\"):\n",
    "            hash_md5.update(chunk)\n",
    "    return hash_md5.hexdigest()\n",
    "\n",
    "print(md5(data_object.name))\n",
    "print(given_checksum)\n",
    "print(given_checksum == md5(data_object.name))"
   ]
  },
  {
   "cell_type": "markdown",
   "metadata": {},
   "source": [
    "## Visualizing the contents of the registry"
   ]
  },
  {
   "cell_type": "markdown",
   "metadata": {},
   "source": [
    "Here, we look at the file sizes of the contents of the registry. This is a histogram where each bin is a count of the number of files with a size in that range. We plot with a log axis because of the number of very small files dominates a linear scale."
   ]
  },
  {
   "cell_type": "code",
   "execution_count": 11,
   "metadata": {},
   "outputs": [
    {
     "data": {
      "image/png": "[encoded data removed]",
      "text/plain": [
       "<matplotlib.figure.Figure at 0x7f780c0aba50>"
      ]
     },
     "metadata": {},
     "output_type": "display_data"
    }
   ],
   "source": [
    "import matplotlib.pyplot as plt\n",
    "file_sizes = [float(x.size) for x in data_objects]\n",
    "plt.hist(file_sizes, bins=96)\n",
    "plt.title(\"n = {}, {} GB total, mean {} GB\".format(len(file_sizes), str(sum(file_sizes) / 1000000000.0), (sum(file_sizes) / len(file_sizes)) / 1000000000.0 ))\n",
    "plt.yscale('symlog')\n",
    "plt.show()"
   ]
  },
  {
   "cell_type": "markdown",
   "metadata": {},
   "source": [
    "Observe that most of the non-tiny files are around 2GB and a few files are very large."
   ]
  },
  {
   "cell_type": "markdown",
   "metadata": {
    "collapsed": true
   },
   "source": [
    "## Make a Data Bundle of some Data Objects"
   ]
  },
  {
   "cell_type": "markdown",
   "metadata": {},
   "source": [
    "We can now organize some of the Data Objects into a bundle so we can share them together. \n",
    "\n",
    "For example, a few publicly available items. First, we have to gather the list of Data Objects and compute their concatenated hash."
   ]
  },
  {
   "cell_type": "markdown",
   "metadata": {},
   "source": [
    "### Calculate the hash for our Objects"
   ]
  },
  {
   "cell_type": "code",
   "execution_count": 12,
   "metadata": {},
   "outputs": [
    {
     "name": "stdout",
     "output_type": "stream",
     "text": [
      "238dc9ee-c1de-4803-8e95-bc21f3a7e806\n",
      "40d83610bbae6dcf8973590c226d4d04\n",
      "abf6bc6f18bee84a17c9ece681de5f93\n"
     ]
    }
   ],
   "source": [
    "public_data_object_ids = [x.id for x in public_data_objects]\n",
    "print(public_data_object_ids[0])\n",
    "hashes = [x.checksums[0].checksum for x in public_data_objects]\n",
    "print(hashes[0])\n",
    "bundle_md5 = hashlib.md5()\n",
    "bundle_md5.update(''.join(hashes[0:10]))\n",
    "bundle_digest = bundle_md5.hexdigest()\n",
    "print(bundle_digest)"
   ]
  },
  {
   "cell_type": "markdown",
   "metadata": {},
   "source": [
    "### Create a new Data Bundle"
   ]
  },
  {
   "cell_type": "code",
   "execution_count": 14,
   "metadata": {},
   "outputs": [
    {
     "name": "stdout",
     "output_type": "stream",
     "text": [
      "c4dbd853-a057-4910-b2b1-d16211fd4031\n"
     ]
    }
   ],
   "source": [
    "CreateDataBundleRequest = models.get_model('CreateDataBundleRequest')\n",
    "DataBundle = models.get_model('DataBundle')\n",
    "Checksum = models.get_model('Checksum')\n",
    "my_bundle = DataBundle(\n",
    "    name=\"My Bundle\",\n",
    "    checksums=[Checksum(checksum=bundle_digest, type='md5')],\n",
    "    data_object_ids=public_data_object_ids[0:10],\n",
    "    aliases=[\"bundle-alias\", \"access:public\"])\n",
    "create_request = CreateDataBundleRequest(data_bundle=my_bundle)\n",
    "create_response = client.CreateDataBundle(body=create_request).result()\n",
    "print(create_response.data_bundle_id)"
   ]
  },
  {
   "cell_type": "markdown",
   "metadata": {},
   "source": [
    "Let's now verify the Data Bundle appears as expected:"
   ]
  },
  {
   "cell_type": "code",
   "execution_count": 15,
   "metadata": {},
   "outputs": [
    {
     "name": "stdout",
     "output_type": "stream",
     "text": [
      "[u'238dc9ee-c1de-4803-8e95-bc21f3a7e806', u'10e4ee41-ed07-488f-b024-dc47103ebcdc', u'9035cbd8-439c-49d5-9c28-f6620a0268f9', u'0e9e4a38-d6c5-4c6e-8044-93d9c2bdc686', u'c3c5adb2-d5ae-4d89-9c38-fe9178ce5665', u'2e9b7043-e5c4-4168-b4e5-13a929f48846', u'4d67906b-6f98-4aa3-b095-15a53b7a5a5f', u'b0002ca4-d762-40c1-b4e0-d40e2988f6f0', u'dc0dece5-71a1-4920-a779-cd256d2f47b1', u'88b51e89-0888-40b3-bef8-4725d1857de2']\n"
     ]
    }
   ],
   "source": [
    "get_bundle_response = client.GetDataBundle(data_bundle_id=create_response.data_bundle_id).result()\n",
    "print(get_bundle_response.data_bundle.data_object_ids)"
   ]
  },
  {
   "cell_type": "code",
   "execution_count": null,
   "metadata": {},
   "outputs": [],
   "source": []
  }
 ],
 "metadata": {
  "kernelspec": {
   "display_name": "Python 2",
   "language": "python",
   "name": "python2"
  },
  "language_info": {
   "codemirror_mode": {
    "name": "ipython",
    "version": 2
   },
   "file_extension": ".py",
   "mimetype": "text/x-python",
   "name": "python",
   "nbconvert_exporter": "python",
   "pygments_lexer": "ipython2",
   "version": "2.7.12+"
  }
 },
 "nbformat": 4,
 "nbformat_minor": 1
}
