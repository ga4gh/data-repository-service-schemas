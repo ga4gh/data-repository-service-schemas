{
 "cells": [
  {
   "cell_type": "markdown",
   "metadata": {},
   "source": [
    "# DOS Compliance Testing\n",
    "\n",
    "The ga4gh-dos-schemas packages includes a number of \"compliance tests\" - a standardized test harness that can be used to evaluate the compliance of a given service to the Data Object Service schema. The compliance tests can supplement the test suite of a DOS implementation, or can be pointed at a remote DOS endpoint. \n",
    "\n",
    "The compliance tests are straightforward to use and can generally be integrated into your project after implementing only one or two methods - one method to make requests to the DOS implementation under test, and another to prepare that implementation for testing.\n",
    "\n",
    "Let's start with a simple example. If you wanted to test a remote DOS implementation, you could write something like this:"
   ]
  },
  {
   "cell_type": "code",
   "execution_count": 1,
   "metadata": {},
   "outputs": [],
   "source": [
    "from ga4gh.dos.test.compliance import AbstractComplianceTest\n",
    "import json\n",
    "import requests\n",
    "import unittest\n",
    "\n",
    "basepath = 'https://dos.commons.ucsc-cgp-dev.org/ga4gh/dos/v1'\n",
    "\n",
    "\n",
    "class RemoteTest(AbstractComplianceTest):\n",
    "    @classmethod\n",
    "    def _make_request(self, meth, path, headers=None, body=None):\n",
    "        # Where :param:`path` is like `/dataobjects` or `/databundles/{data_bundle_id}`\n",
    "        # Harcoded access token\n",
    "        headers = headers or {}\n",
    "        headers['access_token'] = 'f4ce9d3d23f4ac9dfdc3c825608dc660'\n",
    "        # Make the request here - :param:`body` is a JSON-formatted string. We\n",
    "        # convert it here so that Requests will automatically add the right headers.\n",
    "        r = requests.request(method=meth, url=basepath + path, headers=headers, json=json.loads(body))\n",
    "        return r.content, r.status_code"
   ]
  },
  {
   "cell_type": "markdown",
   "metadata": {},
   "source": [
    "To test the implementation at `https://dos.commons.ucsc-cgp-dev.org/`, all we need to do is implement the `_make_request` method that makes an (authenticated) request to the chosen endpoint given a DOS endpoint (such as `/databundles` or `/service-info`), a method, and request content.\n",
    "\n",
    "Before we run the tests, there's one thing to note - the service that we are testing (dos-azul-lambda dev) does not have data bundle support yet. Luckily, we can pare down what tests we run based on what features the implementation under test supports by setting the `supports` class variable like so:"
   ]
  },
  {
   "cell_type": "code",
   "execution_count": 2,
   "metadata": {},
   "outputs": [],
   "source": [
    "RemoteTest.supports = ['GetDataObject', 'ListDataObjects', 'UpdateDataObject']"
   ]
  },
  {
   "cell_type": "markdown",
   "metadata": {},
   "source": [
    "Now, only compliance tests that utilize the `GetDataObject`, `ListDataObjects`, and `UpdateDataObject` DOS operations will run. With that handled, we can run the tests.\n",
    "\n",
    "`AbstractComplianceTest` subclasses `unittest.TestCase`, so we can run it using a test runner like nose or by using the unittest command hook (e.g. `python -m unittest ...`). For the purposes of running the notebook, we can set up a test suite and run it like so:"
   ]
  },
  {
   "cell_type": "code",
   "execution_count": 3,
   "metadata": {},
   "outputs": [
    {
     "name": "stdout",
     "output_type": "stream",
     "text": [
      "..s.ss..F.....\n",
      "======================================================================\n",
      "FAIL: test_list_data_objects_by_checksum (__main__.RemoteTest)\n",
      "----------------------------------------------------------------------\n",
      "Traceback (most recent call last):\n",
      "  File \"/home/natan/cgl/data-object-service-schemas/python/ga4gh/dos/test/compliance.py\", line 55, in wrapper\n",
      "    return func(self)\n",
      "  File \"/home/natan/cgl/data-object-service-schemas/python/ga4gh/dos/test/compliance.py\", line 317, in test_list_data_objects_by_checksum\n",
      "    self.assertEqual(len(r['data_objects']), 1)\n",
      "AssertionError: 10 != 1\n",
      "\n",
      "----------------------------------------------------------------------\n",
      "Ran 14 tests in 14.933s\n",
      "\n",
      "FAILED (failures=1, skipped=3)\n"
     ]
    },
    {
     "data": {
      "text/plain": [
       "<unittest.runner.TextTestResult run=14 errors=0 failures=1>"
      ]
     },
     "execution_count": 3,
     "metadata": {},
     "output_type": "execute_result"
    }
   ],
   "source": [
    "import sys\n",
    "import logging\n",
    "\n",
    "# First, we need to tweak the normal test logging structure to account\n",
    "# for the fact we're running in a notebook...\n",
    "handler = logging.getLogger().handlers[0]\n",
    "handler.setLevel(logging.WARNING)\n",
    "\n",
    "# Now, set up the testing harness\n",
    "suite = unittest.TestLoader().loadTestsFromTestCase(RemoteTest)\n",
    "# By default, TextTestRunner outputs to sys.stderr.\n",
    "runner = unittest.TextTestRunner(verbosity=1, stream=sys.stdout)\n",
    "runner.run(suite)"
   ]
  },
  {
   "cell_type": "markdown",
   "metadata": {},
   "source": [
    "The data in the dev instance can vary, but all the tests that are run should generally pass. Looking at the output, you can see the `s` for tests that were skipped because they weren't specified in the `supports` parameter.\n",
    "\n",
    "This pattern is easily extended to DOS implementations built on Chalice:"
   ]
  },
  {
   "cell_type": "code",
   "execution_count": 4,
   "metadata": {},
   "outputs": [],
   "source": [
    "# import chalice\n",
    "# from my_chalice_app import chalice_app\n",
    "\n",
    "# We don't have a Chalice app on hand; this code is a non-functional example\n",
    "# and will fail if run. We set the `chalice` and `my_chalice_app` names so that\n",
    "# the code runs and doesn't make a fuss...\n",
    "chalice = {}\n",
    "my_chalice_app = {}\n",
    "\n",
    "class ChaliceTest(AbstractComplianceTest):\n",
    "    @classmethod\n",
    "    def setUpClass(cls):\n",
    "        cls.lg = chalice.LocalGateway(chalice_app, chalice.Config())\n",
    "\n",
    "    @classmethod\n",
    "    def _make_request(self, meth, path, headers=None, body=None):\n",
    "        headers = headers or {}\n",
    "        r = self.lg.handle_request(method=meth, path='/ga4gh/dos/v1' + path,\n",
    "                                   headers=headers, body=body)\n",
    "        return r['body'], r['statusCode']"
   ]
  },
  {
   "cell_type": "markdown",
   "metadata": {},
   "source": [
    "A similar implementation to the above is used in [DataBiosphere/dos-azul-lambda](https://github.com/DataBiosphere/dos-azul-lambda).\n",
    "\n",
    "This pattern can also be easily extended to test implementations built on Flask. (The reference server included in `ga4gh.dos.server` is built on Connexion, which is itself built on Flask. We test it against the compliance tests in addition to the other integration tests, so it makes a good example. You can check out [Travis](https://travis-ci.org/ga4gh/data-object-service-schemas) to see the latest build results.)"
   ]
  },
  {
   "cell_type": "code",
   "execution_count": 5,
   "metadata": {},
   "outputs": [],
   "source": [
    "import werkzeug.datastructures\n",
    "\n",
    "import ga4gh.dos.server\n",
    "from ga4gh.dos.test.compliance import AbstractComplianceTest\n",
    "\n",
    "class FlaskTest(AbstractComplianceTest):\n",
    "    @classmethod\n",
    "    def setUpClass(cls):\n",
    "        # :mod:`ga4gh.dos.server` is built on top of :mod:`connexion`,\n",
    "        # which is built on top of :mod:`flask`, which is built on top\n",
    "        # of :mod:`werkzeug`, which means we can do some cool nice\n",
    "        # things with testing.\n",
    "        app = ga4gh.dos.server.configure_app().app\n",
    "        cls.client = app.test_client()\n",
    "\n",
    "        # Populate our new server with some test data objects and bundles\n",
    "        for data_obj in cls.generate_data_objects(250):\n",
    "            cls.dos_request('POST', '/dataobjects', body={'data_object': data_obj})\n",
    "        for data_bdl in cls.generate_data_bundles(250):\n",
    "            cls.dos_request('POST', '/databundles', body={'data_bundle': data_bdl})\n",
    "\n",
    "    @classmethod\n",
    "    def _make_request(cls, meth, path, headers=None, body=None):\n",
    "        # For documentation on this function call, see\n",
    "        # :class:`werkzeug.test.EnvironBuilder` and :meth:`werkzeug.test.Client.get`.\n",
    "        headers = werkzeug.datastructures.Headers(headers)\n",
    "        r = cls.client.open(method=meth, path='/ga4gh/dos/v1' + path,\n",
    "                            data=body, headers=headers)\n",
    "        return r.data, r.status_code"
   ]
  },
  {
   "cell_type": "markdown",
   "metadata": {},
   "source": [
    "And if we run it, all tests should pass:"
   ]
  },
  {
   "cell_type": "code",
   "execution_count": 6,
   "metadata": {},
   "outputs": [
    {
     "name": "stdout",
     "output_type": "stream",
     "text": [
      "............"
     ]
    },
    {
     "name": "stderr",
     "output_type": "stream",
     "text": [
      "ERROR:connexion.decorators.validation:http://localhost/ga4gh/dos/v1/dataobjects/c610f6ec-ce5d-11e8-9acb-484520e6c2c4 validation error: 'data_object' is a required property\n"
     ]
    },
    {
     "name": "stdout",
     "output_type": "stream",
     "text": [
      "..\n",
      "----------------------------------------------------------------------\n",
      "Ran 14 tests in 7.360s\n",
      "\n",
      "OK\n"
     ]
    },
    {
     "data": {
      "text/plain": [
       "<unittest.runner.TextTestResult run=14 errors=0 failures=0>"
      ]
     },
     "execution_count": 6,
     "metadata": {},
     "output_type": "execute_result"
    }
   ],
   "source": [
    "import sys\n",
    "suite = unittest.TestLoader().loadTestsFromTestCase(FlaskTest)\n",
    "runner.run(suite)"
   ]
  },
  {
   "cell_type": "markdown",
   "metadata": {},
   "source": [
    "In conclusion, the compliance tests provide an easy way to supplement existing test suites by testing the compliance of a DOS implementation under test to the Data Object Service schema. This is part of a larger effort to automate the testing and compliance of DOS implementations that is being actively developed that we hope will streamline development and use of DOS."
   ]
  }
 ],
 "metadata": {
  "kernelspec": {
   "display_name": "Python 3",
   "language": "python",
   "name": "python3"
  },
  "language_info": {
   "codemirror_mode": {
    "name": "ipython",
    "version": 3
   },
   "file_extension": ".py",
   "mimetype": "text/x-python",
   "name": "python",
   "nbconvert_exporter": "python",
   "pygments_lexer": "ipython3",
   "version": "3.6.3"
  }
 },
 "nbformat": 4,
 "nbformat_minor": 2
}
